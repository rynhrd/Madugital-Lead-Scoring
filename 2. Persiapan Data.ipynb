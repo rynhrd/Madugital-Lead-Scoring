{
 "cells": [
  {
   "cell_type": "code",
   "execution_count": 47,
   "metadata": {},
   "outputs": [
    {
     "name": "stdout",
     "output_type": "stream",
     "text": [
      "<class 'pandas.core.frame.DataFrame'>\n",
      "RangeIndex: 9240 entries, 0 to 9239\n",
      "Data columns (total 37 columns):\n",
      " #   Column                                          Non-Null Count  Dtype  \n",
      "---  ------                                          --------------  -----  \n",
      " 0   Prospect ID                                     9240 non-null   object \n",
      " 1   Lead Number                                     9240 non-null   int64  \n",
      " 2   Lead Origin                                     9240 non-null   object \n",
      " 3   Lead Source                                     9204 non-null   object \n",
      " 4   Do Not Email                                    9240 non-null   object \n",
      " 5   Do Not Call                                     9240 non-null   object \n",
      " 6   Converted                                       9240 non-null   int64  \n",
      " 7   TotalVisits                                     9103 non-null   float64\n",
      " 8   Total Time Spent on Website                     9240 non-null   int64  \n",
      " 9   Page Views Per Visit                            9103 non-null   float64\n",
      " 10  Last Activity                                   9137 non-null   object \n",
      " 11  Country                                         6779 non-null   object \n",
      " 12  Specialization                                  7802 non-null   object \n",
      " 13  How did you hear about Madugital                7033 non-null   object \n",
      " 14  What is your current occupation                 6550 non-null   object \n",
      " 15  What matters most to you in choosing a product  6531 non-null   object \n",
      " 16  Search                                          9240 non-null   object \n",
      " 17  Magazine                                        9240 non-null   object \n",
      " 18  Newspaper Article                               9240 non-null   object \n",
      " 19  Madugital Telegram                              9240 non-null   object \n",
      " 20  Newspaper                                       9240 non-null   object \n",
      " 21  Digital Advertisement                           9240 non-null   object \n",
      " 22  Through Recommendations                         9240 non-null   object \n",
      " 23  Receive More Updates About Our Products         9240 non-null   object \n",
      " 24  Tags                                            5887 non-null   object \n",
      " 25  Lead Quality                                    4473 non-null   object \n",
      " 26  Update me on Supply Chain Content               9240 non-null   object \n",
      " 27  Get updates on DM Content                       9240 non-null   object \n",
      " 28  Lead Profile                                    6531 non-null   object \n",
      " 29  City                                            7820 non-null   object \n",
      " 30  Asymmetrique Activity Index                     5022 non-null   object \n",
      " 31  Asymmetrique Profile Index                      5022 non-null   object \n",
      " 32  Asymmetrique Activity Score                     5022 non-null   float64\n",
      " 33  Asymmetrique Profile Score                      5022 non-null   float64\n",
      " 34  I agree to pay the amount through cheque        9240 non-null   object \n",
      " 35  A free copy of Mastering The Interview          9240 non-null   object \n",
      " 36  Last Notable Activity                           9240 non-null   object \n",
      "dtypes: float64(4), int64(3), object(30)\n",
      "memory usage: 2.6+ MB\n"
     ]
    }
   ],
   "source": [
    "import pandas as pd\n",
    "import numpy as np\n",
    "\n",
    "import os\n",
    "\n",
    "from sklearn.model_selection import train_test_split\n",
    "from sklearn.preprocessing import StandardScaler, OneHotEncoder\n",
    "from sklearn.compose import ColumnTransformer\n",
    "from sklearn.pipeline import Pipeline\n",
    "from sklearn.impute import SimpleImputer\n",
    "\n",
    "# Load data\n",
    "df = pd.read_csv('data/lead_scoring.csv')\n",
    "df.info()"
   ]
  },
  {
   "cell_type": "code",
   "execution_count": 48,
   "metadata": {},
   "outputs": [
    {
     "name": "stdout",
     "output_type": "stream",
     "text": [
      "\n",
      "Sebelum Penggabungan:\n",
      "Lead Origin\n",
      "Landing Page Submission    4886\n",
      "API                        3580\n",
      "Lead Add Form               718\n",
      "Lead Import                  55\n",
      "Quick Add Form                1\n",
      "Name: count, dtype: int64\n",
      "\n",
      "Setelah Penggabungan:\n",
      "Lead Origin\n",
      "Landing Page Submission    4886\n",
      "API                        3580\n",
      "Add Form                    719\n",
      "Lead Import                  55\n",
      "Name: count, dtype: int64\n"
     ]
    }
   ],
   "source": [
    "# Contoh sebelum penggabungan\n",
    "print(\"\\nSebelum Penggabungan:\")\n",
    "print(df['Lead Origin'].value_counts())  # Menampilkan jumlah tiap value di kolom 'Lead Origin'\n",
    "\n",
    "# Menggabungkan 'Quick Add Form' dan 'Lead Ads Form' menjadi 'Add Form'\n",
    "df['Lead Origin'] = np.where(df['Lead Origin'].str.contains(\"Add Form\", case=False), \"Add Form\", df['Lead Origin'])\n",
    "\n",
    "# Contoh setelah penggabungan\n",
    "print(\"\\nSetelah Penggabungan:\")\n",
    "print(df['Lead Origin'].value_counts())  # Menampilkan hasil setelah penggabungan"
   ]
  },
  {
   "cell_type": "code",
   "execution_count": 49,
   "metadata": {},
   "outputs": [
    {
     "name": "stdout",
     "output_type": "stream",
     "text": [
      "\n",
      "Sebelum Penggantian:\n",
      "Lead Source\n",
      "Google               0.310390\n",
      "Direct Traffic       0.275216\n",
      "Olark Chat           0.189935\n",
      "Organic Search       0.124892\n",
      "Reference            0.057792\n",
      "Welingak Website     0.015368\n",
      "Referral Sites       0.013528\n",
      "Facebook             0.005952\n",
      "Not Specified        0.003896\n",
      "bing                 0.000649\n",
      "google               0.000541\n",
      "Click2call           0.000433\n",
      "Live Chat            0.000216\n",
      "Social Media         0.000216\n",
      "Press_Release        0.000216\n",
      "Pay per Click Ads    0.000108\n",
      "blog                 0.000108\n",
      "WeLearn              0.000108\n",
      "welearnblog_Home     0.000108\n",
      "youtubechannel       0.000108\n",
      "testone              0.000108\n",
      "NC_EDM               0.000108\n",
      "Name: proportion, dtype: float64\n",
      "\n",
      "Setelah Penggantian:\n",
      "Lead Source\n",
      "Google              0.310390\n",
      "Direct Traffic      0.275216\n",
      "Olark Chat          0.189935\n",
      "Organic Search      0.124892\n",
      "Reference           0.057792\n",
      "Welingak Website    0.015368\n",
      "Referral Sites      0.013528\n",
      "Others              0.012879\n",
      "Name: proportion, dtype: float64\n"
     ]
    }
   ],
   "source": [
    "# Mengisi nilai yang hilang di kolom 'Lead Source' dengan 'Not Specified'\n",
    "df['Lead Source'] = df['Lead Source'].fillna('Not Specified')\n",
    "\n",
    "# Tampilkan persentase distribusi 'Lead Source'\n",
    "lead_source_percentage = df['Lead Source'].value_counts(normalize=True)\n",
    "print(\"\\nSebelum Penggantian:\")\n",
    "print(lead_source_percentage)\n",
    "\n",
    "# Tentukan threshold 1% (0.01) untuk menentukan kategori yang akan diganti menjadi 'Others'\n",
    "threshold = 0.01\n",
    "sources_to_replace = lead_source_percentage[lead_source_percentage < threshold].index  # Mendapatkan kategori yang kurang dari 1%\n",
    "\n",
    "# Ganti 'Lead Source' yang kurang dari 1% dengan 'Others'\n",
    "df['Lead Source'] = df['Lead Source'].apply(lambda x: 'Others' if x in sources_to_replace else x)\n",
    "\n",
    "# Tampilkan persentase distribusi 'Lead Source' setelah penggantian\n",
    "print(\"\\nSetelah Penggantian:\")\n",
    "print(df['Lead Source'].value_counts(normalize=True))"
   ]
  },
  {
   "cell_type": "code",
   "execution_count": 50,
   "metadata": {},
   "outputs": [
    {
     "name": "stdout",
     "output_type": "stream",
     "text": [
      "\n",
      "Deskripsi 'TotalVisits' setelah pengisian nilai kosong:\n",
      "count    9240.000000\n",
      "mean        3.394156\n",
      "std         4.836682\n",
      "min         0.000000\n",
      "25%         0.000000\n",
      "50%         3.000000\n",
      "75%         5.000000\n",
      "max       251.000000\n",
      "Name: TotalVisits, dtype: float64\n",
      "\n",
      "Deskripsi 'Page Views Per Visit' setelah pengisian nilai kosong:\n",
      "count    9240.000000\n",
      "mean        2.327787\n",
      "std         2.164258\n",
      "min         0.000000\n",
      "25%         0.000000\n",
      "50%         2.000000\n",
      "75%         3.000000\n",
      "max        55.000000\n",
      "Name: Page Views Per Visit, dtype: float64\n"
     ]
    }
   ],
   "source": [
    "# Untuk 'TotalVisits' dan 'Page Views Per Visit', kita lakukan modifikasi langsung tanpa menggunakan inplace\n",
    "df['TotalVisits'] = df['TotalVisits'].fillna(0)  # Isi nilai kosong dengan 0 tanpa inplace\n",
    "print(\"\\nDeskripsi 'TotalVisits' setelah pengisian nilai kosong:\")\n",
    "print(df['TotalVisits'].describe())\n",
    "\n",
    "df['Page Views Per Visit'] = df['Page Views Per Visit'].fillna(0)  # Isi nilai kosong dengan 0 tanpa inplace\n",
    "print(\"\\nDeskripsi 'Page Views Per Visit' setelah pengisian nilai kosong:\")\n",
    "print(df['Page Views Per Visit'].describe())"
   ]
  },
  {
   "cell_type": "code",
   "execution_count": 51,
   "metadata": {},
   "outputs": [
    {
     "data": {
      "text/plain": [
       "Last Activity\n",
       "Email Opened                    3437\n",
       "SMS Sent                        2745\n",
       "Olark Chat Conversation          973\n",
       "Page Visited on Website          640\n",
       "Converted to Lead                428\n",
       "Email Bounced                    326\n",
       "Email Link Clicked               267\n",
       "Form Submitted on Website        116\n",
       "Unknown                          103\n",
       "Unreachable                       93\n",
       "Unsubscribed                      61\n",
       "Had a Phone Conversation          30\n",
       "Approached upfront                 9\n",
       "View in browser link Clicked       6\n",
       "Email Marked Spam                  2\n",
       "Email Received                     2\n",
       "Resubscribed to emails             1\n",
       "Visited Booth in Tradeshow         1\n",
       "Name: count, dtype: int64"
      ]
     },
     "metadata": {},
     "output_type": "display_data"
    },
    {
     "data": {
      "text/plain": [
       "Last Activity Category\n",
       "Good       4500\n",
       "Neutral    4155\n",
       "Bad         585\n",
       "Name: count, dtype: int64"
      ]
     },
     "metadata": {},
     "output_type": "display_data"
    }
   ],
   "source": [
    "# Pastikan nilai kosong (null) pada 'Last Activity' ditangani\n",
    "df['Last Activity'] = df['Last Activity'].fillna('Unknown')  # Mengisi nilai NaN dengan 'Unknown'\n",
    "\n",
    "# Tampilkan jumlah setiap aktivitas pada kolom 'Last Activity'\n",
    "display(df['Last Activity'].value_counts())\n",
    "\n",
    "# Definisikan kategori berdasarkan sudut pandang perusahaan (subjektif)\n",
    "good_activities = ['Email Opened', 'Resubscribed to emails',  'Page Visited on Website', 'Form Submitted on Website', 'Email Link Clicked', 'Had a Phone Conversation', 'Approached upfront']\n",
    "bad_activities = ['Email Bounced', 'Unreachable', 'Unsubscribed', 'Email Marked Spam']\n",
    "neutral_activities = ['Email Received', 'SMS Sent', 'Olark Chat Conversation', 'Converted to Lead', 'View in browser link Clicked', 'Visited Booth in Tradeshow']\n",
    "\n",
    "# Fungsi untuk mengkategorikan aktivitas menjadi Good, Bad, atau Neutral\n",
    "def categorize_activity(activity):\n",
    "    if activity in good_activities:\n",
    "        return 'Good'\n",
    "    elif activity in neutral_activities:\n",
    "        return 'Neutral'\n",
    "    elif activity in bad_activities:\n",
    "        return 'Bad'\n",
    "    else:\n",
    "        return 'Bad'  # Jika aktivitas tidak dikenal atau 'Unknown', dianggap Bad\n",
    "\n",
    "# Terapkan fungsi ke kolom 'Last Activity' untuk membuat kolom kategori\n",
    "df['Last Activity Category'] = df['Last Activity'].apply(categorize_activity)\n",
    "\n",
    "# Tampilkan hasil kategori 'Last Activity'\n",
    "last_activity_category_counts = df['Last Activity Category'].value_counts()\n",
    "display(last_activity_category_counts)\n",
    "\n",
    "# Drop kolom 'Last Activity' karena tidak lagi diperlukan\n",
    "df = df.drop(columns=['Last Activity'])\n"
   ]
  },
  {
   "cell_type": "code",
   "execution_count": 52,
   "metadata": {},
   "outputs": [
    {
     "name": "stdout",
     "output_type": "stream",
     "text": [
      "\n",
      "Before\n"
     ]
    },
    {
     "data": {
      "text/plain": [
       "Country\n",
       "Indonesia               6492\n",
       "NaN                     2461\n",
       "United States             69\n",
       "United Arab Emirates      53\n",
       "Singapore                 24\n",
       "Saudi Arabia              21\n",
       "United Kingdom            15\n",
       "Australia                 13\n",
       "Qatar                     10\n",
       "Hong Kong                  7\n",
       "Bahrain                    7\n",
       "Oman                       6\n",
       "France                     6\n",
       "unknown                    5\n",
       "Kuwait                     4\n",
       "South Africa               4\n",
       "Nigeria                    4\n",
       "Germany                    4\n",
       "Canada                     4\n",
       "Sweden                     3\n",
       "Italy                      2\n",
       "Belgium                    2\n",
       "Ghana                      2\n",
       "Philippines                2\n",
       "Netherlands                2\n",
       "China                      2\n",
       "Asia/Pacific Region        2\n",
       "Bangladesh                 2\n",
       "Uganda                     2\n",
       "Russia                     1\n",
       "Sri Lanka                  1\n",
       "Tanzania                   1\n",
       "Kenya                      1\n",
       "Malaysia                   1\n",
       "Liberia                    1\n",
       "Denmark                    1\n",
       "Switzerland                1\n",
       "Vietnam                    1\n",
       "India                      1\n",
       "Name: count, dtype: int64"
      ]
     },
     "metadata": {},
     "output_type": "display_data"
    },
    {
     "name": "stdout",
     "output_type": "stream",
     "text": [
      "\n",
      "After\n"
     ]
    },
    {
     "data": {
      "text/plain": [
       "Country\n",
       "Indonesia            6492\n",
       "Outside Indonesia    2748\n",
       "Name: count, dtype: int64"
      ]
     },
     "metadata": {},
     "output_type": "display_data"
    }
   ],
   "source": [
    "# Tampilkan jumlah data pada kolom 'Country' sebelum diubah\n",
    "print(\"\\nBefore\")\n",
    "display(df['Country'].value_counts(dropna=False))  # Menggunakan dropna=False agar nilai NaN juga ditampilkan\n",
    "\n",
    "# Ubah nilai 'Country' menjadi 'Indonesia' atau 'Outside Indonesia', termasuk yang Null/None\n",
    "df['Country'] = np.where(df['Country'] == 'Indonesia', 'Indonesia', 'Outside Indonesia')\n",
    "\n",
    "# Tampilkan jumlah data pada kolom 'Country' setelah diubah\n",
    "print(\"\\nAfter\")\n",
    "display(df['Country'].value_counts())"
   ]
  },
  {
   "cell_type": "code",
   "execution_count": 53,
   "metadata": {},
   "outputs": [
    {
     "name": "stdout",
     "output_type": "stream",
     "text": [
      "\n",
      "Before\n"
     ]
    },
    {
     "data": {
      "text/plain": [
       "Specialization\n",
       "Select                               1942\n",
       "NaN                                  1438\n",
       "Finance Management                    976\n",
       "Human Resource Management             848\n",
       "Marketing Management                  838\n",
       "Operations Management                 503\n",
       "Business Administration               403\n",
       "IT Projects Management                366\n",
       "Supply Chain Management               349\n",
       "Banking, Investment And Insurance     338\n",
       "Media and Advertising                 203\n",
       "Travel and Tourism                    203\n",
       "International Business                178\n",
       "Healthcare Management                 159\n",
       "Hospitality Management                114\n",
       "E-COMMERCE                            112\n",
       "Retail Management                     100\n",
       "Rural and Agribusiness                 73\n",
       "E-Business                             57\n",
       "Services Excellence                    40\n",
       "Name: count, dtype: int64"
      ]
     },
     "metadata": {},
     "output_type": "display_data"
    },
    {
     "name": "stdout",
     "output_type": "stream",
     "text": [
      "\n",
      "After\n"
     ]
    },
    {
     "data": {
      "text/plain": [
       "Specialization\n",
       "Not Specified                        3380\n",
       "Finance Management                    976\n",
       "Human Resource Management             848\n",
       "Marketing Management                  838\n",
       "Operations Management                 503\n",
       "Business Administration               403\n",
       "IT Projects Management                366\n",
       "Supply Chain Management               349\n",
       "Banking, Investment And Insurance     338\n",
       "Media and Advertising                 203\n",
       "Travel and Tourism                    203\n",
       "International Business                178\n",
       "Healthcare Management                 159\n",
       "Hospitality Management                114\n",
       "E-COMMERCE                            112\n",
       "Retail Management                     100\n",
       "Rural and Agribusiness                 73\n",
       "E-Business                             57\n",
       "Services Excellence                    40\n",
       "Name: count, dtype: int64"
      ]
     },
     "metadata": {},
     "output_type": "display_data"
    }
   ],
   "source": [
    "# Tampilkan jumlah data pada kolom 'Specialization' sebelum diubah\n",
    "print(\"\\nBefore\")\n",
    "display(df['Specialization'].value_counts(dropna=False))  # Tampilkan juga nilai NaN\n",
    "\n",
    "# Ubah nilai 'Select' dan yang Null/None menjadi 'Not Specified'\n",
    "df['Specialization'] = df['Specialization'].replace('Select', 'Not Specified').fillna('Not Specified')\n",
    "\n",
    "# Tampilkan jumlah data pada kolom 'Specialization' setelah diubah\n",
    "print(\"\\nAfter\")\n",
    "display(df['Specialization'].value_counts())"
   ]
  }
 ],
 "metadata": {
  "kernelspec": {
   "display_name": "Python 3",
   "language": "python",
   "name": "python3"
  },
  "language_info": {
   "codemirror_mode": {
    "name": "ipython",
    "version": 3
   },
   "file_extension": ".py",
   "mimetype": "text/x-python",
   "name": "python",
   "nbconvert_exporter": "python",
   "pygments_lexer": "ipython3",
   "version": "3.12.5"
  }
 },
 "nbformat": 4,
 "nbformat_minor": 2
}
